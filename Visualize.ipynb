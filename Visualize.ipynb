{
 "cells": [
  {
   "cell_type": "code",
   "execution_count": 150,
   "metadata": {},
   "outputs": [],
   "source": [
    "import os\n",
    "import json\n",
    "import numpy as np\n",
    "import matplotlib.pyplot as plt\n",
    "\n",
    "import ray\n",
    "from ray import tune\n",
    "from ray.rllib.agents.ppo import PPOAgent\n",
    "from neurocuts_env import NeuroCutsEnv\n",
    "from run_neurocuts import on_episode_end\n",
    "from ray.tune.registry import register_env\n",
    "from ray.rllib.models import ModelCatalog\n",
    "from mask import PartitionMaskModel\n",
    "\n",
    "%matplotlib inline"
   ]
  },
  {
   "cell_type": "code",
   "execution_count": 111,
   "metadata": {},
   "outputs": [
    {
     "name": "stderr",
     "output_type": "stream",
     "text": [
      "2019-03-05 18:02:27,148\tINFO node.py:278 -- Process STDOUT and STDERR is being redirected to /tmp/ray/session_2019-03-05_18-02-27_39290/logs.\n",
      "2019-03-05 18:02:27,148\tINFO node.py:278 -- Process STDOUT and STDERR is being redirected to /tmp/ray/session_2019-03-05_18-02-27_39290/logs.\n",
      "2019-03-05 18:02:27,148\tINFO node.py:278 -- Process STDOUT and STDERR is being redirected to /tmp/ray/session_2019-03-05_18-02-27_39290/logs.\n",
      "2019-03-05 18:02:27,267\tINFO services.py:396 -- Waiting for redis server at 127.0.0.1:49464 to respond...\n",
      "2019-03-05 18:02:27,267\tINFO services.py:396 -- Waiting for redis server at 127.0.0.1:49464 to respond...\n",
      "2019-03-05 18:02:27,267\tINFO services.py:396 -- Waiting for redis server at 127.0.0.1:49464 to respond...\n",
      "2019-03-05 18:02:27,390\tINFO services.py:396 -- Waiting for redis server at 127.0.0.1:19190 to respond...\n",
      "2019-03-05 18:02:27,390\tINFO services.py:396 -- Waiting for redis server at 127.0.0.1:19190 to respond...\n",
      "2019-03-05 18:02:27,390\tINFO services.py:396 -- Waiting for redis server at 127.0.0.1:19190 to respond...\n",
      "2019-03-05 18:02:27,397\tINFO services.py:798 -- Starting Redis shard with 10.0 GB max memory.\n",
      "2019-03-05 18:02:27,397\tINFO services.py:798 -- Starting Redis shard with 10.0 GB max memory.\n",
      "2019-03-05 18:02:27,397\tINFO services.py:798 -- Starting Redis shard with 10.0 GB max memory.\n",
      "2019-03-05 18:02:27,421\tINFO services.py:1360 -- Starting the Plasma object store with 6.871947672999999 GB memory using /tmp.\n",
      "2019-03-05 18:02:27,421\tINFO services.py:1360 -- Starting the Plasma object store with 6.871947672999999 GB memory using /tmp.\n",
      "2019-03-05 18:02:27,421\tINFO services.py:1360 -- Starting the Plasma object store with 6.871947672999999 GB memory using /tmp.\n"
     ]
    },
    {
     "name": "stdout",
     "output_type": "stream",
     "text": [
      "\n",
      "======================================================================\n",
      "View the web UI at http://localhost:8895/notebooks/ray_ui.ipynb?token=3637bb6dc2b9541ac294a7a7c7327bd587b00d1dcbca0b85\n",
      "======================================================================\n",
      "\n"
     ]
    },
    {
     "data": {
      "text/plain": [
       "{'node_ip_address': None,\n",
       " 'redis_address': '192.168.0.101:49464',\n",
       " 'object_store_address': '/tmp/ray/session_2019-03-05_18-02-27_39290/sockets/plasma_store',\n",
       " 'webui_url': 'http://localhost:8895/notebooks/ray_ui.ipynb?token=3637bb6dc2b9541ac294a7a7c7327bd587b00d1dcbca0b85',\n",
       " 'raylet_socket_name': '/tmp/ray/session_2019-03-05_18-02-27_39290/sockets/raylet'}"
      ]
     },
     "execution_count": 111,
     "metadata": {},
     "output_type": "execute_result"
    }
   ],
   "source": [
    "### Init ###\n",
    "rules = os.path.abspath(\"classbench/{}\".format(\"acl5_1k\"))\n",
    "dump_dir = \"/tmp/neurocuts_out\"\n",
    "reward_shape = \"linear\"\n",
    "\n",
    "ray.init()"
   ]
  },
  {
   "cell_type": "code",
   "execution_count": 112,
   "metadata": {},
   "outputs": [],
   "source": [
    "### Setup ###\n",
    "register_env(\n",
    "    \"tree_env\", lambda env_config: NeuroCutsEnv(\n",
    "        env_config[\"rules\"],\n",
    "        max_depth=env_config[\"max_depth\"],\n",
    "        max_actions_per_episode=env_config[\"max_actions\"],\n",
    "        dump_dir=env_config[\"dump_dir\"],\n",
    "        depth_weight=env_config[\"depth_weight\"],\n",
    "        reward_shape=env_config[\"reward_shape\"],\n",
    "        partition_mode=env_config[\"partition_mode\"]))\n",
    "ModelCatalog.register_custom_model(\"mask\", PartitionMaskModel)\n",
    "\n",
    "config =  {\n",
    "        \"num_gpus\": 0,\n",
    "        \"num_workers\": 3,\n",
    "        \"sgd_minibatch_size\": 100,\n",
    "        \"sample_batch_size\": 200,\n",
    "        \"train_batch_size\": 1000,\n",
    "        \"batch_mode\": \"complete_episodes\",\n",
    "        \"observation_filter\": \"NoFilter\",\n",
    "        \"model\": {\n",
    "            \"custom_model\": \"mask\",\n",
    "            \"fcnet_hiddens\": [512, 512],\n",
    "        },\n",
    "        \"vf_share_layers\": True,\n",
    "        \"entropy_coeff\": 0.01,\n",
    "        \"callbacks\": {\n",
    "            \"on_episode_end\": tune.function(on_episode_end),\n",
    "        },\n",
    "        \"env_config\": {\n",
    "            \"dump_dir\": dump_dir,\n",
    "            \"partition_mode\": None,\n",
    "            \"reward_shape\": reward_shape,\n",
    "            \"max_depth\": 100,\n",
    "            \"max_actions\": 1000,\n",
    "            \"depth_weight\": 1.0,\n",
    "            \"rules\": rules,\n",
    "        },\n",
    "    }"
   ]
  },
  {
   "cell_type": "code",
   "execution_count": 147,
   "metadata": {},
   "outputs": [
    {
     "name": "stderr",
     "output_type": "stream",
     "text": [
      "2019-03-05 18:22:50,506\tINFO policy_evaluator.py:264 -- Creating policy evaluation worker 0 on CPU (please ignore any CUDA init errors)\n",
      "2019-03-05 18:22:51,366\tINFO multi_gpu_optimizer.py:74 -- LocalMultiGPUOptimizer devices ['/cpu:0']\n"
     ]
    }
   ],
   "source": [
    "file = \"/Users/yitianzou/ray_results/neurocuts_None/PPO_tree_env_1_rules=_Users_yitianzou_neurocuts-code_classbench_acl5_1k,sample_batch_size=400_2019-02-20_15-30-42uewkqv_l/checkpoint_1/checkpoint-1\"\n",
    "env = NeuroCutsEnv(rules_file=\"classbench/acl5_1k\")\n",
    "agent = PPOAgent(env=\"tree_env\", config=config)\n",
    "agent.restore(file)"
   ]
  },
  {
   "cell_type": "code",
   "execution_count": 134,
   "metadata": {},
   "outputs": [
    {
     "name": "stdout",
     "output_type": "stream",
     "text": [
      "1000\n"
     ]
    }
   ],
   "source": [
    "### Load obs ###\n",
    "path = \"obs1.json\"\n",
    "obs_dict = {}\n",
    "\n",
    "with open(path, 'r') as f:\n",
    "    key = f.readline().rstrip()\n",
    "    obs = f.readline().rstrip()\n",
    "    act = f.readline().rstrip()\n",
    "\n",
    "    while key:\n",
    "        dict_ = {\"real_obs\": json.loads(obs), \"action_mask\": json.loads(act)}\n",
    "        obs_dict[json.loads(key)] = dict_\n",
    "        key = f.readline().rstrip()\n",
    "        obs = f.readline().rstrip()\n",
    "        act = f.readline().rstrip()\n",
    "print(len(obs_dict))"
   ]
  },
  {
   "cell_type": "code",
   "execution_count": 312,
   "metadata": {},
   "outputs": [
    {
     "name": "stdout",
     "output_type": "stream",
     "text": [
      "1000\n"
     ]
    }
   ],
   "source": [
    "### Extract variables ###\n",
    "keys = list(obs_dict.keys())\n",
    "\n",
    "src = []\n",
    "dst = []\n",
    "values = []\n",
    "for key, obs in obs_dict.items():\n",
    "    src_ip = obs[\"real_obs\"][:32]\n",
    "    dst_ip = obs[\"real_obs\"][32:64]\n",
    "    _obs = agent.local_evaluator.preprocessors[\"default\"].transform(obs)\n",
    "    value = agent.get_policy()._value(_obs)\n",
    "    src.append(src_ip)\n",
    "    dst.append(dst_ip)\n",
    "    values.append(value)\n",
    "values = np.array(values)\n",
    "print(len(values))"
   ]
  },
  {
   "cell_type": "code",
   "execution_count": 313,
   "metadata": {},
   "outputs": [],
   "source": [
    "### Extract IP addresses ###\n",
    "def extract_address(ip):\n",
    "    ip_str = ''.join(str(int(e)) for e in ip)\n",
    "    ip_dec = int(ip_str, 2)\n",
    "    return ip_dec\n",
    "src_ip = np.array([extract_address(ip) for ip in src])\n",
    "dst_ip = np.array([extract_address(ip) for ip in dst])"
   ]
  },
  {
   "cell_type": "code",
   "execution_count": 333,
   "metadata": {},
   "outputs": [
    {
     "name": "stdout",
     "output_type": "stream",
     "text": [
      "Src ip has min 0, max 1930976512, median 127374147.0, and 44 unique elements\n",
      "Dst ip has min 47400581, max 2147483647, median 134217727.0, and 50 unique elements\n"
     ]
    }
   ],
   "source": [
    "### Stats ###\n",
    "x_min = np.min(src_ip)\n",
    "x_max = np.max(src_ip)\n",
    "x_med = np.median(src_ip)\n",
    "x_unique = len(np.unique(src_ip))\n",
    "y_min = np.min(dst_ip)\n",
    "y_max = np.max(dst_ip)\n",
    "y_med = np.median(dst_ip)\n",
    "y_unique = len(np.unique(dst_ip))\n",
    "\n",
    "print(\"Src ip has min {}, max {}, median {}, and {} unique elements\".format(x_min, x_max, x_med, x_unique))\n",
    "print(\"Dst ip has min {}, max {}, median {}, and {} unique elements\".format(y_min, y_max, y_med, y_unique))"
   ]
  },
  {
   "cell_type": "code",
   "execution_count": 317,
   "metadata": {},
   "outputs": [
    {
     "name": "stdout",
     "output_type": "stream",
     "text": [
      "0.9038722248354003\n",
      "0.9666830994758807\n",
      "0.09510682356658329\n"
     ]
    },
    {
     "data": {
      "image/png": "[encoded data removed]",
      "text/plain": [
       "<Figure size 432x288 with 1 Axes>"
      ]
     },
     "metadata": {
      "needs_background": "light"
     },
     "output_type": "display_data"
    }
   ],
   "source": [
    "### Scatter example ###\n",
    "N = 10\n",
    "x = np.random.rand(N)\n",
    "y = np.random.rand(N)\n",
    "colors = np.random.rand(N)\n",
    "area = (30 * np.random.rand(N))**2  # 0 to 15 point radii\n",
    "alpha = 0.5\n",
    "# plt.scatter(x, y, s=area, c=colors, alpha=0.5)\n",
    "plt.scatter(x, y, c=colors)\n",
    "print(x[0])\n",
    "print(y[0])\n",
    "print(colors[0])"
   ]
  },
  {
   "cell_type": "code",
   "execution_count": 336,
   "metadata": {},
   "outputs": [
    {
     "name": "stderr",
     "output_type": "stream",
     "text": [
      "/Users/yitianzou/anaconda3/lib/python3.7/site-packages/ipykernel_launcher.py:2: RuntimeWarning: divide by zero encountered in log\n",
      "  \n",
      "/Users/yitianzou/anaconda3/lib/python3.7/site-packages/ipykernel_launcher.py:2: RuntimeWarning: invalid value encountered in log\n",
      "  \n"
     ]
    },
    {
     "data": {
      "text/plain": [
       "Text(0,0.5,'Dst ip')"
      ]
     },
     "execution_count": 336,
     "metadata": {},
     "output_type": "execute_result"
    },
    {
     "data": {
      "image/png": "[encoded data removed]",
      "text/plain": [
       "<Figure size 432x288 with 1 Axes>"
      ]
     },
     "metadata": {
      "needs_background": "light"
     },
     "output_type": "display_data"
    }
   ],
   "source": [
    "### Scatter plot ###\n",
    "_src_ip = np.log(np.log(src_ip))\n",
    "_dst_ip = np.log(np.log(dst_ip))\n",
    "plt.scatter(_src_ip, _dst_ip, c=values)\n",
    "plt.xlabel(\"Src ip\")\n",
    "plt.ylabel(\"Dst ip\")\n",
    "# Yellow = high\n",
    "# Green = medium\n",
    "# Blue = low"
   ]
  },
  {
   "cell_type": "code",
   "execution_count": 233,
   "metadata": {},
   "outputs": [
    {
     "name": "stdout",
     "output_type": "stream",
     "text": [
      "(12,)\n",
      "(8,)\n",
      "(8, 12)\n"
     ]
    },
    {
     "data": {
      "text/plain": [
       "<matplotlib.contour.QuadContourSet at 0x1c3f7a0eb8>"
      ]
     },
     "execution_count": 233,
     "metadata": {},
     "output_type": "execute_result"
    },
    {
     "data": {
      "image/png": "[encoded data removed]",
      "text/plain": [
       "<Figure size 432x288 with 1 Axes>"
      ]
     },
     "metadata": {
      "needs_background": "light"
     },
     "output_type": "display_data"
    }
   ],
   "source": [
    "### Contour example ###\n",
    "delta = 0.5\n",
    "x = np.arange(-3.0, 3.0, delta)\n",
    "y = np.arange(-2.0, 2.0, delta)\n",
    "X, Y = np.meshgrid(x, y)\n",
    "Z = np.exp(-X**2 - Y**2)\n",
    "print(x.shape)\n",
    "print(y.shape)\n",
    "print(Z.shape)\n",
    "plt.contour(X, Y, Z)"
   ]
  },
  {
   "cell_type": "code",
   "execution_count": 245,
   "metadata": {},
   "outputs": [
    {
     "data": {
      "text/plain": [
       "<matplotlib.contour.QuadContourSet at 0x1c3f935390>"
      ]
     },
     "execution_count": 245,
     "metadata": {},
     "output_type": "execute_result"
    },
    {
     "data": {
      "image/png": "[encoded data removed]",
      "text/plain": [
       "<Figure size 432x288 with 1 Axes>"
      ]
     },
     "metadata": {
      "needs_background": "light"
     },
     "output_type": "display_data"
    }
   ],
   "source": [
    "### Plot 1 point ###\n",
    "x = _src_ip\n",
    "y = _dst_ip\n",
    "X, Y = np.meshgrid(x, y)\n",
    "Z = np.diag(values)\n",
    "plt.contour(X, Y, Z)\n",
    "# Yellow = high\n",
    "# Green = medium\n",
    "# Blue = low"
   ]
  },
  {
   "cell_type": "code",
   "execution_count": null,
   "metadata": {},
   "outputs": [],
   "source": []
  }
 ],
 "metadata": {
  "kernelspec": {
   "display_name": "Python 3",
   "language": "python",
   "name": "python3"
  },
  "language_info": {
   "codemirror_mode": {
    "name": "ipython",
    "version": 3
   },
   "file_extension": ".py",
   "mimetype": "text/x-python",
   "name": "python",
   "nbconvert_exporter": "python",
   "pygments_lexer": "ipython3",
   "version": "3.7.2"
  }
 },
 "nbformat": 4,
 "nbformat_minor": 2
}
